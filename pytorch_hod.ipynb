{
  "cells": [
    {
      "cell_type": "code",
      "execution_count": 1,
      "metadata": {
        "colab": {
          "base_uri": "https://localhost:8080/"
        },
        "id": "yNM-RqiwVLJb",
        "outputId": "865f8c36-535f-433c-d234-22a3bb7bf106"
      },
      "outputs": [
        {
          "output_type": "stream",
          "name": "stdout",
          "text": [
            "tensor([[ 6,  8],\n",
            "        [10, 12]])\n",
            "tensor([[-4, -4],\n",
            "        [-4, -4]])\n",
            "tensor([[ 5, 12],\n",
            "        [21, 32]])\n",
            "tensor([[0.2000, 0.3333],\n",
            "        [0.4286, 0.5000]])\n",
            "tensor([[19, 22],\n",
            "        [43, 50]])\n"
          ]
        }
      ],
      "source": [
        "import torch\n",
        "\n",
        "# Creating tensors\n",
        "x = torch.tensor([[1, 2], [3, 4]])\n",
        "y = torch.tensor([[5, 6], [7, 8]])\n",
        "\n",
        "# Element-wise addition\n",
        "result = torch.add(x, y)  # or result = x + y\n",
        "print(result)\n",
        "\n",
        "# Element-wise subtraction\n",
        "result = torch.sub(x, y)  # or result = x - y\n",
        "print(result)\n",
        "\n",
        "# Element-wise multiplication\n",
        "result = torch.mul(x, y)  # or result = x * y\n",
        "print(result)\n",
        "\n",
        "# Element-wise division\n",
        "result = torch.div(x, y)  # or result = x / y\n",
        "print(result)\n",
        "\n",
        "# Matrix multiplication\n",
        "result = torch.matmul(x, y)  # or result = x @ y\n",
        "print(result)"
      ]
    },
    {
      "cell_type": "code",
      "execution_count": 2,
      "metadata": {
        "colab": {
          "base_uri": "https://localhost:8080/"
        },
        "id": "AInUrQFFVLJk",
        "outputId": "8d6500f0-179c-42ea-9400-45d0d334eac1"
      },
      "outputs": [
        {
          "output_type": "stream",
          "name": "stdout",
          "text": [
            "tensor(4.)\n",
            "tensor(27.)\n"
          ]
        }
      ],
      "source": [
        "import torch\n",
        "\n",
        "# Create a tensor with requires_grad=True to track computation\n",
        "x = torch.tensor(2.0, requires_grad=True)\n",
        "y = torch.tensor(3.0, requires_grad=True)\n",
        "\n",
        "# Perform a computation\n",
        "z = x**2 + y**3\n",
        "\n",
        "# Compute gradients\n",
        "z.backward()\n",
        "\n",
        "# Gradients are stored in .grad attribute of tensors\n",
        "print(x.grad)  # Output: 4.0\n",
        "print(y.grad)  # Output: 27.0"
      ]
    },
    {
      "cell_type": "code",
      "execution_count": null,
      "metadata": {
        "id": "rRa4MTxgVLJk",
        "outputId": "c4105f8b-064e-4668-99ae-582fbe275ffc"
      },
      "outputs": [
        {
          "name": "stdout",
          "output_type": "stream",
          "text": [
            "Epoch [1/10], Loss: 0.7437\n",
            "Epoch [2/10], Loss: 0.7401\n",
            "Epoch [3/10], Loss: 0.7366\n",
            "Epoch [4/10], Loss: 0.7335\n",
            "Epoch [5/10], Loss: 0.7305\n",
            "Epoch [6/10], Loss: 0.7277\n",
            "Epoch [7/10], Loss: 0.7251\n",
            "Epoch [8/10], Loss: 0.7226\n",
            "Epoch [9/10], Loss: 0.7204\n",
            "Epoch [10/10], Loss: 0.7182\n"
          ]
        },
        {
          "data": {
            "image/png": "[encoded data removed]",
            "text/plain": [
              "<Figure size 640x480 with 1 Axes>"
            ]
          },
          "metadata": {},
          "output_type": "display_data"
        }
      ],
      "source": [
        "#simple program with tensor data\n",
        "import torch\n",
        "import torch.nn as nn\n",
        "import torch.optim as optim\n",
        "from torch.utils.data import DataLoader, TensorDataset\n",
        "import matplotlib.pyplot as plt\n",
        "\n",
        "# Create a dummy dataset\n",
        "X_train = torch.randn(1000, 10)  # 1000 samples with 10 features each\n",
        "y_train = torch.randint(0, 2, (1000,))  # Binary labels\n",
        "\n",
        "# Create a TensorDataset\n",
        "train_dataset = TensorDataset(X_train, y_train)\n",
        "\n",
        "# Create a DataLoader\n",
        "train_dataloader = DataLoader(train_dataset, batch_size=64, shuffle=True)\n",
        "\n",
        "# Define a simple neural network\n",
        "class SimpleNN(nn.Module):\n",
        "    def __init__(self):\n",
        "        super(SimpleNN, self).__init__()\n",
        "        self.fc = nn.Linear(10, 1)  # Linear layer with input size 10 and output size 1\n",
        "\n",
        "    def forward(self, x):\n",
        "        return torch.sigmoid(self.fc(x))  # Sigmoid activation for binary classification\n",
        "\n",
        "# Instantiate the neural network\n",
        "model = SimpleNN()\n",
        "\n",
        "# Define the loss function\n",
        "criterion = nn.BCELoss()  # Binary Cross Entropy Loss for binary classification\n",
        "\n",
        "# Define the optimizer\n",
        "optimizer = optim.SGD(model.parameters(), lr=0.01)\n",
        "\n",
        "# Training loop\n",
        "num_epochs = 10\n",
        "losses = []  # To store the loss values\n",
        "for epoch in range(num_epochs):\n",
        "    epoch_loss = 0.0\n",
        "    for inputs, targets in train_dataloader:\n",
        "        optimizer.zero_grad()  # Zero the gradients\n",
        "        outputs = model(inputs)  # Forward pass\n",
        "        loss = criterion(outputs.squeeze(), targets.float())  # Compute the loss\n",
        "        loss.backward()  # Backward pass\n",
        "        optimizer.step()  # Update weights\n",
        "        epoch_loss += loss.item() * inputs.size(0)\n",
        "    epoch_loss /= len(train_dataset)\n",
        "    print(f'Epoch [{epoch+1}/{num_epochs}], Loss: {epoch_loss:.4f}')\n",
        "    losses.append(epoch_loss)\n",
        "\n",
        "# Plot the loss over epochs\n",
        "plt.plot(range(1, num_epochs+1), losses)\n",
        "plt.xlabel('Epoch')\n",
        "plt.ylabel('Loss')\n",
        "plt.title('Training Loss')\n",
        "plt.show()"
      ]
    },
    {
      "cell_type": "code",
      "execution_count": 3,
      "metadata": {
        "id": "mQVp3i5aVLJl"
      },
      "outputs": [],
      "source": [
        "import torch\n",
        "import torch.nn.functional as F\n",
        "\n",
        "# Applying activation functions\n",
        "x = torch.randn(5)\n",
        "\n",
        "# Sigmoid activation function\n",
        "sigmoid_output = torch.sigmoid(x)\n",
        "\n",
        "# ReLU activation function\n",
        "relu_output = F.relu(x)\n",
        "\n",
        "# Tanh activation function\n",
        "tanh_output = torch.tanh(x)"
      ]
    },
    {
      "cell_type": "code",
      "execution_count": 4,
      "metadata": {
        "colab": {
          "base_uri": "https://localhost:8080/"
        },
        "id": "C-JMyQEsVLJl",
        "outputId": "ceb26f1d-2db4-4d77-a2d9-670aa6455346"
      },
      "outputs": [
        {
          "output_type": "execute_result",
          "data": {
            "text/plain": [
              "<All keys matched successfully>"
            ]
          },
          "metadata": {},
          "execution_count": 4
        }
      ],
      "source": [
        "import torch\n",
        "import torch.nn as nn\n",
        "\n",
        "# Define and train a model\n",
        "model = nn.Linear(10, 1)\n",
        "# Training code...\n",
        "# Save the model\n",
        "torch.save(model.state_dict(), 'model.pth')\n",
        "\n",
        "# Load the model\n",
        "model = nn.Linear(10, 1)\n",
        "model.load_state_dict(torch.load('model.pth'))"
      ]
    },
    {
      "cell_type": "code",
      "execution_count": null,
      "metadata": {
        "id": "9LUP5tAqVLJl",
        "outputId": "4b5a0449-e29f-46f8-eb87-5b7642c81ee4"
      },
      "outputs": [
        {
          "name": "stdout",
          "output_type": "stream",
          "text": [
            "Data tensor size: torch.Size([506, 13])\n",
            "Target tensor size: torch.Size([506])\n"
          ]
        }
      ],
      "source": [
        "#converting random online dataset into trainable tensors\n",
        "import pandas as pd\n",
        "import numpy as np\n",
        "\n",
        "# Load the dataset from the original source\n",
        "data_url = \"http://lib.stat.cmu.edu/datasets/boston\"\n",
        "raw_df = pd.read_csv(data_url, sep=\"\\s+\", skiprows=22, header=None)\n",
        "\n",
        "# Combine the data into feature and target arrays\n",
        "data = np.hstack([raw_df.values[::2, :], raw_df.values[1::2, :2]])\n",
        "target = raw_df.values[1::2, 2]\n",
        "\n",
        "# Convert to PyTorch tensors\n",
        "boston_data_tensor = torch.tensor(data, dtype=torch.float32)\n",
        "boston_target_tensor = torch.tensor(target, dtype=torch.float32)\n",
        "\n",
        "print(\"Data tensor size:\", boston_data_tensor.size())\n",
        "print(\"Target tensor size:\", boston_target_tensor.size())"
      ]
    },
    {
      "cell_type": "code",
      "execution_count": null,
      "metadata": {
        "id": "wS3QotuSVLJm",
        "outputId": "28383619-6715-4465-b72c-be6605b6046b"
      },
      "outputs": [
        {
          "name": "stdout",
          "output_type": "stream",
          "text": [
            "Epoch: 0 Loss: 0.25369173288345337\n",
            "Epoch: 1 Loss: 0.2535414397716522\n",
            "Epoch: 2 Loss: 0.2533915638923645\n",
            "Epoch: 3 Loss: 0.2532420754432678\n",
            "Epoch: 4 Loss: 0.2530929446220398\n",
            "Epoch: 5 Loss: 0.2529442012310028\n",
            "Epoch: 6 Loss: 0.2527958154678345\n",
            "Epoch: 7 Loss: 0.2526478171348572\n",
            "Epoch: 8 Loss: 0.2525002360343933\n",
            "Epoch: 9 Loss: 0.2523530125617981\n",
            "Epoch: 10 Loss: 0.25220611691474915\n",
            "Epoch: 11 Loss: 0.25205960869789124\n",
            "Epoch: 12 Loss: 0.25191348791122437\n",
            "Epoch: 13 Loss: 0.25176769495010376\n",
            "Epoch: 14 Loss: 0.2516222894191742\n",
            "Epoch: 15 Loss: 0.2514772117137909\n",
            "Epoch: 16 Loss: 0.251332551240921\n",
            "Epoch: 17 Loss: 0.25118815898895264\n",
            "Epoch: 18 Loss: 0.2510441839694977\n",
            "Epoch: 19 Loss: 0.250900536775589\n",
            "Epoch: 20 Loss: 0.2507571876049042\n",
            "Epoch: 21 Loss: 0.2506142556667328\n",
            "Epoch: 22 Loss: 0.25047165155410767\n",
            "Epoch: 23 Loss: 0.2503293752670288\n",
            "Epoch: 24 Loss: 0.2501874566078186\n",
            "Epoch: 25 Loss: 0.25004586577415466\n",
            "Epoch: 26 Loss: 0.2499045878648758\n",
            "Epoch: 27 Loss: 0.24976365268230438\n",
            "Epoch: 28 Loss: 0.24962306022644043\n",
            "Epoch: 29 Loss: 0.24948278069496155\n",
            "Epoch: 30 Loss: 0.24934284389019012\n",
            "Epoch: 31 Loss: 0.24920323491096497\n",
            "Epoch: 32 Loss: 0.24906393885612488\n",
            "Epoch: 33 Loss: 0.24892494082450867\n",
            "Epoch: 34 Loss: 0.24878625571727753\n",
            "Epoch: 35 Loss: 0.24864789843559265\n",
            "Epoch: 36 Loss: 0.24850988388061523\n",
            "Epoch: 37 Loss: 0.2483721524477005\n",
            "Epoch: 38 Loss: 0.24823470413684845\n",
            "Epoch: 39 Loss: 0.24809762835502625\n",
            "Epoch: 40 Loss: 0.24796080589294434\n",
            "Epoch: 41 Loss: 0.2478242814540863\n",
            "Epoch: 42 Loss: 0.24768809974193573\n",
            "Epoch: 43 Loss: 0.24755223095417023\n",
            "Epoch: 44 Loss: 0.24741657078266144\n",
            "Epoch: 45 Loss: 0.2472812682390213\n",
            "Epoch: 46 Loss: 0.24714624881744385\n",
            "Epoch: 47 Loss: 0.24701151251792908\n",
            "Epoch: 48 Loss: 0.2468770295381546\n",
            "Epoch: 49 Loss: 0.2467428743839264\n"
          ]
        }
      ],
      "source": [
        "#simple Sequential model using static input\n",
        "import torch\n",
        "import torch.nn as nn\n",
        "\n",
        "# Step 2: Define input size, hidden layer size, output size, and batch size\n",
        "n_in, n_h, n_out, batch_size = 10, 5, 1, 10\n",
        "\n",
        "# Step 3: Create dummy input and target tensors (data)\n",
        "x = torch.randn(batch_size, n_in)\n",
        "y = torch.tensor([[1.0], [0.0], [0.0], [1.0], [1.0], [1.0], [0.0], [0.0], [1.0], [1.0]])\n",
        "\n",
        "# Step 4: Create a sequential model\n",
        "model = nn.Sequential(\n",
        "    nn.Linear(n_in, n_h),\n",
        "    nn.ReLU(),\n",
        "    nn.Linear(n_h, n_out),\n",
        "    nn.Sigmoid()\n",
        ")\n",
        "\n",
        "# Step 5: Construct the loss function and optimizer\n",
        "criterion = torch.nn.MSELoss()\n",
        "optimizer = torch.optim.SGD(model.parameters(), lr=0.01)\n",
        "\n",
        "# Step 6: Implement the gradient descent model\n",
        "for epoch in range(50):\n",
        "    # Forward pass: Compute predicted y by passing x to the model\n",
        "    y_pred = model(x)\n",
        "\n",
        "    # Compute and print loss\n",
        "    loss = criterion(y_pred, y)\n",
        "    print('Epoch:', epoch, 'Loss:', loss.item())\n",
        "\n",
        "    # Zero gradients, perform a backward pass, and update the weights\n",
        "    optimizer.zero_grad()\n",
        "    loss.backward()\n",
        "    optimizer.step()"
      ]
    },
    {
      "cell_type": "code",
      "execution_count": null,
      "metadata": {
        "id": "_azpRiObVLJm"
      },
      "outputs": [],
      "source": []
    }
  ],
  "metadata": {
    "kernelspec": {
      "display_name": "Python 3",
      "language": "python",
      "name": "python3"
    },
    "language_info": {
      "codemirror_mode": {
        "name": "ipython",
        "version": 3
      },
      "file_extension": ".py",
      "mimetype": "text/x-python",
      "name": "python",
      "nbconvert_exporter": "python",
      "pygments_lexer": "ipython3",
      "version": "3.10.11"
    },
    "colab": {
      "provenance": []
    }
  },
  "nbformat": 4,
  "nbformat_minor": 0
}